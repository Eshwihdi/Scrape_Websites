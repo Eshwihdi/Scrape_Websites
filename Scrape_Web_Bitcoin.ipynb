{
 "cells": [
  {
   "cell_type": "code",
   "execution_count": 6,
   "id": "295bdd31",
   "metadata": {},
   "outputs": [],
   "source": [
    "import snscrape.modules.twitter as sntwitter\n",
    "import pandas as pd\n",
    "import progressbar\n",
    "from time import sleep\n",
    "from datetime import datetime\n",
    "import os\n",
    "\n",
    "movie_dict = {'bitcoin': ['bitcoin since:2022-06-01 until:2022-06-17', 50000]}"
   ]
  },
  {
   "cell_type": "code",
   "execution_count": 7,
   "id": "5b0eef16",
   "metadata": {},
   "outputs": [
    {
     "name": "stderr",
     "output_type": "stream",
     "text": [
      "[                                                                         ]   0%\r"
     ]
    },
    {
     "name": "stdout",
     "output_type": "stream",
     "text": [
      "bitcoin %\n"
     ]
    },
    {
     "name": "stderr",
     "output_type": "stream",
     "text": [
      "[=========================================================================] 100%\n"
     ]
    }
   ],
   "source": [
    "today = datetime.today().strftime('%Y%m%d')[2:]+'_'\n",
    "for index, movie_name in enumerate(movie_dict):\n",
    "    print(movie_name, '%')\n",
    "    tweets_list1 = []\n",
    "    bar = progressbar.ProgressBar(maxval=movie_dict[movie_name][1]+2, widgets=[progressbar.Bar('=', '[', ']'), ' ', progressbar.Percentage()])\n",
    "    bar.start()\n",
    "    for i,tweet in enumerate(sntwitter.TwitterSearchScraper(f'{movie_dict[movie_name][0]}').get_items()): #declare a username\n",
    "        bar.update(i+1)\n",
    "        if i>movie_dict[movie_name][1]: #number of tweets you want to scrape\n",
    "            break\n",
    "        #print(movie_name, i, tweet)\n",
    "        tweets_list1.append([tweet.date, tweet.id, tweet.content, tweet.user.username]) #declare the attributes to be returned\n",
    "    tweets_df1 = pd.DataFrame(tweets_list1, columns=['Datetime', 'Tweet Id', 'Text', 'Username'])\n",
    "\n",
    "    tweets_df1[['Datetime', 'Text']].to_csv(f'{index}_BTC.csv')\n",
    "    bar.finish()"
   ]
  },
  {
   "cell_type": "code",
   "execution_count": 9,
   "id": "3fc6de24",
   "metadata": {},
   "outputs": [
    {
     "data": {
      "text/html": [
       "<div>\n",
       "<style scoped>\n",
       "    .dataframe tbody tr th:only-of-type {\n",
       "        vertical-align: middle;\n",
       "    }\n",
       "\n",
       "    .dataframe tbody tr th {\n",
       "        vertical-align: top;\n",
       "    }\n",
       "\n",
       "    .dataframe thead th {\n",
       "        text-align: right;\n",
       "    }\n",
       "</style>\n",
       "<table border=\"1\" class=\"dataframe\">\n",
       "  <thead>\n",
       "    <tr style=\"text-align: right;\">\n",
       "      <th></th>\n",
       "      <th>Text</th>\n",
       "    </tr>\n",
       "  </thead>\n",
       "  <tbody>\n",
       "    <tr>\n",
       "      <th>0</th>\n",
       "      <td>Dally found #bitcoin in a Blue vault at this l...</td>\n",
       "    </tr>\n",
       "    <tr>\n",
       "      <th>1</th>\n",
       "      <td>@Paul04Trader Bitcoin is that change. Only POW...</td>\n",
       "    </tr>\n",
       "    <tr>\n",
       "      <th>2</th>\n",
       "      <td>Bitcoin-boosting Salvadoran leader may have se...</td>\n",
       "    </tr>\n",
       "    <tr>\n",
       "      <th>3</th>\n",
       "      <td>#Bitcoin Last Price $21045 #BTC 🚀\\nDaily Indic...</td>\n",
       "    </tr>\n",
       "    <tr>\n",
       "      <th>4</th>\n",
       "      <td>Y pensé que estas gorras ya se habían quedado ...</td>\n",
       "    </tr>\n",
       "    <tr>\n",
       "      <th>...</th>\n",
       "      <td>...</td>\n",
       "    </tr>\n",
       "    <tr>\n",
       "      <th>49996</th>\n",
       "      <td>@SativusRaphanus @Tyrexito Que invierte en Bit...</td>\n",
       "    </tr>\n",
       "    <tr>\n",
       "      <th>49997</th>\n",
       "      <td>@I3puttoften Only been day 2  that’s not a avg...</td>\n",
       "    </tr>\n",
       "    <tr>\n",
       "      <th>49998</th>\n",
       "      <td>Bitcoin Price and Value Completely Separate, M...</td>\n",
       "    </tr>\n",
       "    <tr>\n",
       "      <th>49999</th>\n",
       "      <td>The Giant Whale Speaks: Das ist die Einstiegss...</td>\n",
       "    </tr>\n",
       "    <tr>\n",
       "      <th>50000</th>\n",
       "      <td>Bitcoin price climbs to $22.5K after Fed 75 ba...</td>\n",
       "    </tr>\n",
       "  </tbody>\n",
       "</table>\n",
       "<p>50001 rows × 1 columns</p>\n",
       "</div>"
      ],
      "text/plain": [
       "                                                    Text\n",
       "0      Dally found #bitcoin in a Blue vault at this l...\n",
       "1      @Paul04Trader Bitcoin is that change. Only POW...\n",
       "2      Bitcoin-boosting Salvadoran leader may have se...\n",
       "3      #Bitcoin Last Price $21045 #BTC 🚀\\nDaily Indic...\n",
       "4      Y pensé que estas gorras ya se habían quedado ...\n",
       "...                                                  ...\n",
       "49996  @SativusRaphanus @Tyrexito Que invierte en Bit...\n",
       "49997  @I3puttoften Only been day 2  that’s not a avg...\n",
       "49998  Bitcoin Price and Value Completely Separate, M...\n",
       "49999  The Giant Whale Speaks: Das ist die Einstiegss...\n",
       "50000  Bitcoin price climbs to $22.5K after Fed 75 ba...\n",
       "\n",
       "[50001 rows x 1 columns]"
      ]
     },
     "execution_count": 9,
     "metadata": {},
     "output_type": "execute_result"
    }
   ],
   "source": [
    "import pandas as pd\n",
    "\n",
    "#when importing empty rows, they are transformed to nan, so we need to drop them here\n",
    "df = pd.read_csv('0_BTC.csv', lineterminator='\\n')[['Text']]\n",
    "df"
   ]
  },
  {
   "cell_type": "code",
   "execution_count": 10,
   "id": "bd0090fa",
   "metadata": {},
   "outputs": [
    {
     "data": {
      "text/plain": [
       "Index(['Text'], dtype='object')"
      ]
     },
     "execution_count": 10,
     "metadata": {},
     "output_type": "execute_result"
    }
   ],
   "source": [
    "df.columns"
   ]
  },
  {
   "cell_type": "code",
   "execution_count": 11,
   "id": "8fde8f54",
   "metadata": {},
   "outputs": [
    {
     "data": {
      "text/html": [
       "<div>\n",
       "<style scoped>\n",
       "    .dataframe tbody tr th:only-of-type {\n",
       "        vertical-align: middle;\n",
       "    }\n",
       "\n",
       "    .dataframe tbody tr th {\n",
       "        vertical-align: top;\n",
       "    }\n",
       "\n",
       "    .dataframe thead th {\n",
       "        text-align: right;\n",
       "    }\n",
       "</style>\n",
       "<table border=\"1\" class=\"dataframe\">\n",
       "  <thead>\n",
       "    <tr style=\"text-align: right;\">\n",
       "      <th></th>\n",
       "      <th>Text</th>\n",
       "      <th>text</th>\n",
       "    </tr>\n",
       "  </thead>\n",
       "  <tbody>\n",
       "    <tr>\n",
       "      <th>0</th>\n",
       "      <td>Dally found bitcoin in a Blue vault at this lo...</td>\n",
       "      <td>Dally found bitcoin in a Blue vault at this lo...</td>\n",
       "    </tr>\n",
       "    <tr>\n",
       "      <th>1</th>\n",
       "      <td>Paul04Trader Bitcoin is that change Only POW ...</td>\n",
       "      <td>Bitcoin is that change Only POW money Everythi...</td>\n",
       "    </tr>\n",
       "    <tr>\n",
       "      <th>2</th>\n",
       "      <td>Bitcoin boosting Salvadoran leader may have se...</td>\n",
       "      <td>Bitcoin boosting Salvadoran leader may have se...</td>\n",
       "    </tr>\n",
       "    <tr>\n",
       "      <th>3</th>\n",
       "      <td>Bitcoin Last Price 21045 BTC Daily Indicators...</td>\n",
       "      <td>Bitcoin Last Price 21045 BTC Daily Indicators...</td>\n",
       "    </tr>\n",
       "    <tr>\n",
       "      <th>4</th>\n",
       "      <td>Y pensé que estas gorras ya se habían quedado ...</td>\n",
       "      <td>Y pensé que estas gorras ya se habían quedado ...</td>\n",
       "    </tr>\n",
       "    <tr>\n",
       "      <th>...</th>\n",
       "      <td>...</td>\n",
       "      <td>...</td>\n",
       "    </tr>\n",
       "    <tr>\n",
       "      <th>49996</th>\n",
       "      <td>SativusRaphanus Tyrexito Que invierte en Bitc...</td>\n",
       "      <td>Que invierte en Bitcoin</td>\n",
       "    </tr>\n",
       "    <tr>\n",
       "      <th>49997</th>\n",
       "      <td>I3puttoften Only been day 2 that s not a avg ...</td>\n",
       "      <td>Only been day 2 that s not a avg price still A...</td>\n",
       "    </tr>\n",
       "    <tr>\n",
       "      <th>49998</th>\n",
       "      <td>Bitcoin Price and Value Completely Separate Mo...</td>\n",
       "      <td>Bitcoin Price and Value Completely Separate Mo...</td>\n",
       "    </tr>\n",
       "    <tr>\n",
       "      <th>49999</th>\n",
       "      <td>The Giant Whale Speaks Das ist die Einstiegsst...</td>\n",
       "      <td>The Giant Whale Speaks Das ist die Einstiegsst...</td>\n",
       "    </tr>\n",
       "    <tr>\n",
       "      <th>50000</th>\n",
       "      <td>Bitcoin price climbs to 22 5K after Fed 75 bas...</td>\n",
       "      <td>Bitcoin price climbs to 22 5K after Fed 75 bas...</td>\n",
       "    </tr>\n",
       "  </tbody>\n",
       "</table>\n",
       "<p>50001 rows × 2 columns</p>\n",
       "</div>"
      ],
      "text/plain": [
       "                                                    Text  \\\n",
       "0      Dally found bitcoin in a Blue vault at this lo...   \n",
       "1       Paul04Trader Bitcoin is that change Only POW ...   \n",
       "2      Bitcoin boosting Salvadoran leader may have se...   \n",
       "3       Bitcoin Last Price 21045 BTC Daily Indicators...   \n",
       "4      Y pensé que estas gorras ya se habían quedado ...   \n",
       "...                                                  ...   \n",
       "49996   SativusRaphanus Tyrexito Que invierte en Bitc...   \n",
       "49997   I3puttoften Only been day 2 that s not a avg ...   \n",
       "49998  Bitcoin Price and Value Completely Separate Mo...   \n",
       "49999  The Giant Whale Speaks Das ist die Einstiegsst...   \n",
       "50000  Bitcoin price climbs to 22 5K after Fed 75 bas...   \n",
       "\n",
       "                                                    text  \n",
       "0      Dally found bitcoin in a Blue vault at this lo...  \n",
       "1      Bitcoin is that change Only POW money Everythi...  \n",
       "2      Bitcoin boosting Salvadoran leader may have se...  \n",
       "3       Bitcoin Last Price 21045 BTC Daily Indicators...  \n",
       "4      Y pensé que estas gorras ya se habían quedado ...  \n",
       "...                                                  ...  \n",
       "49996                           Que invierte en Bitcoin   \n",
       "49997  Only been day 2 that s not a avg price still A...  \n",
       "49998  Bitcoin Price and Value Completely Separate Mo...  \n",
       "49999  The Giant Whale Speaks Das ist die Einstiegsst...  \n",
       "50000  Bitcoin price climbs to 22 5K after Fed 75 bas...  \n",
       "\n",
       "[50001 rows x 2 columns]"
      ]
     },
     "execution_count": 11,
     "metadata": {},
     "output_type": "execute_result"
    }
   ],
   "source": [
    "#get rid of links and hashtags\n",
    "df[\"text\"] = df[\"Text\"].apply(lambda x : ' '.join([s for s in x.split(' ') if s.find('@') == -1 and s.find('www') == -1 and s.find('https') == -1]))\n",
    "\n",
    "#get rid of non-ascii characters\n",
    "df = df.replace(r'\\W+', ' ', regex=True)\n",
    "df"
   ]
  },
  {
   "cell_type": "code",
   "execution_count": 12,
   "id": "a854d6d8",
   "metadata": {},
   "outputs": [
    {
     "data": {
      "text/html": [
       "<div>\n",
       "<style scoped>\n",
       "    .dataframe tbody tr th:only-of-type {\n",
       "        vertical-align: middle;\n",
       "    }\n",
       "\n",
       "    .dataframe tbody tr th {\n",
       "        vertical-align: top;\n",
       "    }\n",
       "\n",
       "    .dataframe thead th {\n",
       "        text-align: right;\n",
       "    }\n",
       "</style>\n",
       "<table border=\"1\" class=\"dataframe\">\n",
       "  <thead>\n",
       "    <tr style=\"text-align: right;\">\n",
       "      <th></th>\n",
       "      <th>Text</th>\n",
       "      <th>text</th>\n",
       "      <th>sentiment</th>\n",
       "    </tr>\n",
       "  </thead>\n",
       "  <tbody>\n",
       "    <tr>\n",
       "      <th>0</th>\n",
       "      <td>NYCMayor Way to go Mayor Adams The mining mor...</td>\n",
       "      <td>Way to go Mayor Adams The mining moratorium i...</td>\n",
       "      <td>-1.0</td>\n",
       "    </tr>\n",
       "    <tr>\n",
       "      <th>1</th>\n",
       "      <td>saylor On the contrary Bitcoin is the archite...</td>\n",
       "      <td>On the contrary Bitcoin is the architect of Ch...</td>\n",
       "      <td>-1.0</td>\n",
       "    </tr>\n",
       "    <tr>\n",
       "      <th>2</th>\n",
       "      <td>FCMB is the worst thing that will ever happen ...</td>\n",
       "      <td>FCMB is the worst thing that will ever happen ...</td>\n",
       "      <td>-1.0</td>\n",
       "    </tr>\n",
       "    <tr>\n",
       "      <th>3</th>\n",
       "      <td>CsokaDan BitcoinMagazine saylor Gold is liter...</td>\n",
       "      <td>Gold is literally a disgrace to humans at thi...</td>\n",
       "      <td>-1.0</td>\n",
       "    </tr>\n",
       "    <tr>\n",
       "      <th>4</th>\n",
       "      <td>Insane Bitcoin Pump Incoming Will Ethereum 2 E...</td>\n",
       "      <td>Insane Bitcoin Pump Incoming Will Ethereum 2 E...</td>\n",
       "      <td>-1.0</td>\n",
       "    </tr>\n",
       "    <tr>\n",
       "      <th>...</th>\n",
       "      <td>...</td>\n",
       "      <td>...</td>\n",
       "      <td>...</td>\n",
       "    </tr>\n",
       "    <tr>\n",
       "      <th>49996</th>\n",
       "      <td>bitcoin_apex_rv awesome</td>\n",
       "      <td>awesome</td>\n",
       "      <td>1.0</td>\n",
       "    </tr>\n",
       "    <tr>\n",
       "      <th>49997</th>\n",
       "      <td>Chomeofficial Awesome lfg clipper_corp Crypto...</td>\n",
       "      <td>Awesome lfg ETH CHOME Bitcoin Crypto Airdrop BNB</td>\n",
       "      <td>1.0</td>\n",
       "    </tr>\n",
       "    <tr>\n",
       "      <th>49998</th>\n",
       "      <td>felipe_brc Bitcoin isn t a inflation hedge It...</td>\n",
       "      <td>Bitcoin isn t a inflation hedge It a basically...</td>\n",
       "      <td>1.0</td>\n",
       "    </tr>\n",
       "    <tr>\n",
       "      <th>49999</th>\n",
       "      <td>Bubs1989 found bitcoin in a User vault at this...</td>\n",
       "      <td>Bubs1989 found bitcoin in a User vault at this...</td>\n",
       "      <td>1.0</td>\n",
       "    </tr>\n",
       "    <tr>\n",
       "      <th>50000</th>\n",
       "      <td>BTCETHbaba found bitcoin in a User vault at th...</td>\n",
       "      <td>BTCETHbaba found bitcoin in a User vault at th...</td>\n",
       "      <td>1.0</td>\n",
       "    </tr>\n",
       "  </tbody>\n",
       "</table>\n",
       "<p>50001 rows × 3 columns</p>\n",
       "</div>"
      ],
      "text/plain": [
       "                                                    Text  \\\n",
       "0       NYCMayor Way to go Mayor Adams The mining mor...   \n",
       "1       saylor On the contrary Bitcoin is the archite...   \n",
       "2      FCMB is the worst thing that will ever happen ...   \n",
       "3       CsokaDan BitcoinMagazine saylor Gold is liter...   \n",
       "4      Insane Bitcoin Pump Incoming Will Ethereum 2 E...   \n",
       "...                                                  ...   \n",
       "49996                           bitcoin_apex_rv awesome    \n",
       "49997   Chomeofficial Awesome lfg clipper_corp Crypto...   \n",
       "49998   felipe_brc Bitcoin isn t a inflation hedge It...   \n",
       "49999  Bubs1989 found bitcoin in a User vault at this...   \n",
       "50000  BTCETHbaba found bitcoin in a User vault at th...   \n",
       "\n",
       "                                                    text  sentiment  \n",
       "0       Way to go Mayor Adams The mining moratorium i...       -1.0  \n",
       "1      On the contrary Bitcoin is the architect of Ch...       -1.0  \n",
       "2      FCMB is the worst thing that will ever happen ...       -1.0  \n",
       "3       Gold is literally a disgrace to humans at thi...       -1.0  \n",
       "4      Insane Bitcoin Pump Incoming Will Ethereum 2 E...       -1.0  \n",
       "...                                                  ...        ...  \n",
       "49996                                           awesome         1.0  \n",
       "49997   Awesome lfg ETH CHOME Bitcoin Crypto Airdrop BNB        1.0  \n",
       "49998  Bitcoin isn t a inflation hedge It a basically...        1.0  \n",
       "49999  Bubs1989 found bitcoin in a User vault at this...        1.0  \n",
       "50000  BTCETHbaba found bitcoin in a User vault at th...        1.0  \n",
       "\n",
       "[50001 rows x 3 columns]"
      ]
     },
     "execution_count": 12,
     "metadata": {},
     "output_type": "execute_result"
    }
   ],
   "source": [
    "# python3 -m spacy download en_core_web_sm\n",
    "\n",
    "import spacy\n",
    "from spacytextblob.spacytextblob import SpacyTextBlob\n",
    "\n",
    "nlp = spacy.load('en_core_web_sm')\n",
    "nlp.add_pipe(\"spacytextblob\")\n",
    "\n",
    "df['sentiment'] = df['text'].apply(lambda x : nlp(x)._.polarity)\n",
    "df_sentiment = df.sort_values('sentiment').reset_index(drop=True)\n",
    "df_sentiment"
   ]
  },
  {
   "cell_type": "code",
   "execution_count": 13,
   "id": "c8d53512",
   "metadata": {},
   "outputs": [
    {
     "name": "stderr",
     "output_type": "stream",
     "text": [
      "[nltk_data] Downloading package wordnet to\n",
      "[nltk_data]     /Users/aeshwihdi/nltk_data...\n",
      "[nltk_data]   Package wordnet is already up-to-date!\n",
      "[nltk_data] Downloading package stopwords to\n",
      "[nltk_data]     /Users/aeshwihdi/nltk_data...\n",
      "[nltk_data]   Package stopwords is already up-to-date!\n"
     ]
    },
    {
     "data": {
      "text/html": [
       "<div>\n",
       "<style scoped>\n",
       "    .dataframe tbody tr th:only-of-type {\n",
       "        vertical-align: middle;\n",
       "    }\n",
       "\n",
       "    .dataframe tbody tr th {\n",
       "        vertical-align: top;\n",
       "    }\n",
       "\n",
       "    .dataframe thead th {\n",
       "        text-align: right;\n",
       "    }\n",
       "</style>\n",
       "<table border=\"1\" class=\"dataframe\">\n",
       "  <thead>\n",
       "    <tr style=\"text-align: right;\">\n",
       "      <th></th>\n",
       "      <th>Text</th>\n",
       "      <th>text</th>\n",
       "      <th>sentiment</th>\n",
       "    </tr>\n",
       "  </thead>\n",
       "  <tbody>\n",
       "    <tr>\n",
       "      <th>0</th>\n",
       "      <td>NYCMayor Way to go Mayor Adams The mining mor...</td>\n",
       "      <td>way mayor adam mining moratorium insane disast...</td>\n",
       "      <td>-1.0</td>\n",
       "    </tr>\n",
       "    <tr>\n",
       "      <th>1</th>\n",
       "      <td>saylor On the contrary Bitcoin is the archite...</td>\n",
       "      <td>contrary bitcoin architect chaos object greed ...</td>\n",
       "      <td>-1.0</td>\n",
       "    </tr>\n",
       "    <tr>\n",
       "      <th>2</th>\n",
       "      <td>FCMB is the worst thing that will ever happen ...</td>\n",
       "      <td>fcmb worst thing ever happen guy make lose dea...</td>\n",
       "      <td>-1.0</td>\n",
       "    </tr>\n",
       "    <tr>\n",
       "      <th>3</th>\n",
       "      <td>CsokaDan BitcoinMagazine saylor Gold is liter...</td>\n",
       "      <td>gold literally disgrace human point shameful b...</td>\n",
       "      <td>-1.0</td>\n",
       "    </tr>\n",
       "    <tr>\n",
       "      <th>4</th>\n",
       "      <td>Insane Bitcoin Pump Incoming Will Ethereum 2 E...</td>\n",
       "      <td>insane bitcoin pump incoming ethereum ever finish</td>\n",
       "      <td>-1.0</td>\n",
       "    </tr>\n",
       "    <tr>\n",
       "      <th>...</th>\n",
       "      <td>...</td>\n",
       "      <td>...</td>\n",
       "      <td>...</td>\n",
       "    </tr>\n",
       "    <tr>\n",
       "      <th>49996</th>\n",
       "      <td>bitcoin_apex_rv awesome</td>\n",
       "      <td>awesome</td>\n",
       "      <td>1.0</td>\n",
       "    </tr>\n",
       "    <tr>\n",
       "      <th>49997</th>\n",
       "      <td>Chomeofficial Awesome lfg clipper_corp Crypto...</td>\n",
       "      <td>awesome lfg eth chome bitcoin crypto airdrop bnb</td>\n",
       "      <td>1.0</td>\n",
       "    </tr>\n",
       "    <tr>\n",
       "      <th>49998</th>\n",
       "      <td>felipe_brc Bitcoin isn t a inflation hedge It...</td>\n",
       "      <td>bitcoin inflation hedge basically tech stock g...</td>\n",
       "      <td>1.0</td>\n",
       "    </tr>\n",
       "    <tr>\n",
       "      <th>49999</th>\n",
       "      <td>Bubs1989 found bitcoin in a User vault at this...</td>\n",
       "      <td>bubs found bitcoin user vault location join pl...</td>\n",
       "      <td>1.0</td>\n",
       "    </tr>\n",
       "    <tr>\n",
       "      <th>50000</th>\n",
       "      <td>BTCETHbaba found bitcoin in a User vault at th...</td>\n",
       "      <td>btcethbaba found bitcoin user vault location j...</td>\n",
       "      <td>1.0</td>\n",
       "    </tr>\n",
       "  </tbody>\n",
       "</table>\n",
       "<p>50001 rows × 3 columns</p>\n",
       "</div>"
      ],
      "text/plain": [
       "                                                    Text  \\\n",
       "0       NYCMayor Way to go Mayor Adams The mining mor...   \n",
       "1       saylor On the contrary Bitcoin is the archite...   \n",
       "2      FCMB is the worst thing that will ever happen ...   \n",
       "3       CsokaDan BitcoinMagazine saylor Gold is liter...   \n",
       "4      Insane Bitcoin Pump Incoming Will Ethereum 2 E...   \n",
       "...                                                  ...   \n",
       "49996                           bitcoin_apex_rv awesome    \n",
       "49997   Chomeofficial Awesome lfg clipper_corp Crypto...   \n",
       "49998   felipe_brc Bitcoin isn t a inflation hedge It...   \n",
       "49999  Bubs1989 found bitcoin in a User vault at this...   \n",
       "50000  BTCETHbaba found bitcoin in a User vault at th...   \n",
       "\n",
       "                                                    text  sentiment  \n",
       "0      way mayor adam mining moratorium insane disast...       -1.0  \n",
       "1      contrary bitcoin architect chaos object greed ...       -1.0  \n",
       "2      fcmb worst thing ever happen guy make lose dea...       -1.0  \n",
       "3      gold literally disgrace human point shameful b...       -1.0  \n",
       "4      insane bitcoin pump incoming ethereum ever finish       -1.0  \n",
       "...                                                  ...        ...  \n",
       "49996                                            awesome        1.0  \n",
       "49997   awesome lfg eth chome bitcoin crypto airdrop bnb        1.0  \n",
       "49998  bitcoin inflation hedge basically tech stock g...        1.0  \n",
       "49999  bubs found bitcoin user vault location join pl...        1.0  \n",
       "50000  btcethbaba found bitcoin user vault location j...        1.0  \n",
       "\n",
       "[50001 rows x 3 columns]"
      ]
     },
     "execution_count": 13,
     "metadata": {},
     "output_type": "execute_result"
    }
   ],
   "source": [
    "import re\n",
    "import nltk\n",
    "nltk.download('wordnet')\n",
    "nltk.download('stopwords')\n",
    "from nltk.tokenize import RegexpTokenizer\n",
    "from nltk.stem import WordNetLemmatizer,PorterStemmer\n",
    "from nltk.corpus import stopwords\n",
    "lemmatizer = WordNetLemmatizer()\n",
    "stemmer = PorterStemmer() \n",
    "\n",
    "#adding a counter to check the progress of the algo while it runs\n",
    "global counter\n",
    "counter = 0\n",
    "def preprocess(sentence, stemming=False, lemmatizing=False):\n",
    "  global counter\n",
    "  counter += 1\n",
    "  if counter % 100 == 0:\n",
    "    pass\n",
    "    #print(counter)\n",
    "\n",
    "  #clean as much as possible, but not apply strong editing to the text, yet\n",
    "  sentence=str(sentence)\n",
    "  tokenizer = RegexpTokenizer(r'\\w+')\n",
    "\n",
    "  sentence = sentence.lower()\n",
    "  sentence=sentence.replace('{html}',\"\") \n",
    "  cleanr = re.compile('<.*?>')\n",
    "  cleantext = re.sub(cleanr, '', sentence)\n",
    "  rem_url=re.sub(r'http\\S+', '',cleantext)\n",
    "  rem_num = re.sub('[0-9]+', '', rem_url)\n",
    "  tokens = tokenizer.tokenize(rem_num)\n",
    "  \n",
    "  filtered_words = [w for w in tokens if len(w) > 2 if not w in stopwords.words('english')]\n",
    "  \n",
    "  if stemming == True and lemmatizing == False:\n",
    "    stem_words=[stemmer.stem(w) for w in filtered_words]\n",
    "    return \" \".join(stem_words)\n",
    "\n",
    "  if stemming == False and lemmatizing == True:\n",
    "    lemma_words=[lemmatizer.lemmatize(w) for w in filtered_words]\n",
    "    return \" \".join(lemma_words)\n",
    "\n",
    "  if stemming == True and lemmatizing == True:\n",
    "    stem_words=[stemmer.stem(w) for w in filtered_words]\n",
    "    lemma_words=[lemmatizer.lemmatize(w) for w in stem_words]\n",
    "    return \" \".join(lemma_words)\n",
    "  \n",
    "  #at the end of the algo we return filtered words\n",
    "  return \" \".join(filtered_words)\n",
    "\n",
    "#preprocess the sentiment text\n",
    "df_sentiment['text'] = df_sentiment['text'].apply(lambda x: preprocess(x, stemming=False, lemmatizing=True))\n",
    "df_sentiment"
   ]
  },
  {
   "cell_type": "code",
   "execution_count": 14,
   "id": "957d007f",
   "metadata": {},
   "outputs": [
    {
     "name": "stdout",
     "output_type": "stream",
     "text": [
      "The number of neg tweets is  6653\n",
      "The number of pos tweets is  14926\n",
      "            ---                \n",
      "Positive Teweets\n"
     ]
    }
   ],
   "source": [
    "df_neg = df_sentiment[df_sentiment['sentiment'] < 0]\n",
    "df_pos = df_sentiment[df_sentiment['sentiment'] > 0]\n",
    "print('The number of neg tweets is ', len(df_neg))\n",
    "print('The number of pos tweets is ', len(df_pos))\n",
    "print('            ---                ')\n",
    "if len(df_pos) > len(df_neg):\n",
    "    print('Positive Teweets')\n",
    "else:\n",
    "    print('Negative Teweets')"
   ]
  },
  {
   "cell_type": "code",
   "execution_count": null,
   "id": "ef7c0b76",
   "metadata": {},
   "outputs": [],
   "source": []
  },
  {
   "cell_type": "code",
   "execution_count": 28,
   "id": "8da924da",
   "metadata": {},
   "outputs": [
    {
     "ename": "NameError",
     "evalue": "name 'Counter' is not defined",
     "output_type": "error",
     "traceback": [
      "\u001b[0;31m---------------------------------------------------------------------------\u001b[0m",
      "\u001b[0;31mNameError\u001b[0m                                 Traceback (most recent call last)",
      "\u001b[0;32m/var/folders/c1/rfl5trc93ts_sbld2ygkd15h0000gp/T/ipykernel_72646/3308694404.py\u001b[0m in \u001b[0;36m<cell line: 1>\u001b[0;34m()\u001b[0m\n\u001b[0;32m----> 1\u001b[0;31m \u001b[0mpositive_words\u001b[0m \u001b[0;34m=\u001b[0m \u001b[0mpd\u001b[0m\u001b[0;34m.\u001b[0m\u001b[0mDataFrame\u001b[0m\u001b[0;34m(\u001b[0m\u001b[0;34m[\u001b[0m\u001b[0mdict\u001b[0m\u001b[0;34m(\u001b[0m\u001b[0mCounter\u001b[0m\u001b[0;34m(\u001b[0m\u001b[0;34m' '\u001b[0m\u001b[0;34m.\u001b[0m\u001b[0mjoin\u001b[0m\u001b[0;34m(\u001b[0m\u001b[0mdf_pos\u001b[0m\u001b[0;34m[\u001b[0m\u001b[0;34m'text'\u001b[0m\u001b[0;34m]\u001b[0m\u001b[0;34m.\u001b[0m\u001b[0mvalues\u001b[0m\u001b[0;34m.\u001b[0m\u001b[0mtolist\u001b[0m\u001b[0;34m(\u001b[0m\u001b[0;34m)\u001b[0m\u001b[0;34m)\u001b[0m\u001b[0;34m.\u001b[0m\u001b[0msplit\u001b[0m\u001b[0;34m(\u001b[0m\u001b[0;34m' '\u001b[0m\u001b[0;34m)\u001b[0m\u001b[0;34m)\u001b[0m\u001b[0;34m)\u001b[0m\u001b[0;34m]\u001b[0m\u001b[0;34m)\u001b[0m\u001b[0;34m.\u001b[0m\u001b[0mT\u001b[0m\u001b[0;34m.\u001b[0m\u001b[0msort_values\u001b[0m\u001b[0;34m(\u001b[0m\u001b[0;36m0\u001b[0m\u001b[0;34m,\u001b[0m \u001b[0mascending\u001b[0m\u001b[0;34m=\u001b[0m\u001b[0;32mFalse\u001b[0m\u001b[0;34m)\u001b[0m\u001b[0;34m[\u001b[0m\u001b[0;36m0\u001b[0m\u001b[0;34m:\u001b[0m\u001b[0;36m100\u001b[0m\u001b[0;34m]\u001b[0m\u001b[0;34m.\u001b[0m\u001b[0mindex\u001b[0m\u001b[0;34m\u001b[0m\u001b[0;34m\u001b[0m\u001b[0m\n\u001b[0m\u001b[1;32m      2\u001b[0m \u001b[0;34m\u001b[0m\u001b[0m\n\u001b[1;32m      3\u001b[0m \u001b[0mnegative_words\u001b[0m \u001b[0;34m=\u001b[0m \u001b[0mpd\u001b[0m\u001b[0;34m.\u001b[0m\u001b[0mDataFrame\u001b[0m\u001b[0;34m(\u001b[0m\u001b[0;34m[\u001b[0m\u001b[0mdict\u001b[0m\u001b[0;34m(\u001b[0m\u001b[0mCounter\u001b[0m\u001b[0;34m(\u001b[0m\u001b[0;34m' '\u001b[0m\u001b[0;34m.\u001b[0m\u001b[0mjoin\u001b[0m\u001b[0;34m(\u001b[0m\u001b[0mdf_neg\u001b[0m\u001b[0;34m[\u001b[0m\u001b[0;34m'text'\u001b[0m\u001b[0;34m]\u001b[0m\u001b[0;34m.\u001b[0m\u001b[0mvalues\u001b[0m\u001b[0;34m.\u001b[0m\u001b[0mtolist\u001b[0m\u001b[0;34m(\u001b[0m\u001b[0;34m)\u001b[0m\u001b[0;34m)\u001b[0m\u001b[0;34m.\u001b[0m\u001b[0msplit\u001b[0m\u001b[0;34m(\u001b[0m\u001b[0;34m' '\u001b[0m\u001b[0;34m)\u001b[0m\u001b[0;34m)\u001b[0m\u001b[0;34m)\u001b[0m\u001b[0;34m]\u001b[0m\u001b[0;34m)\u001b[0m\u001b[0;34m.\u001b[0m\u001b[0mT\u001b[0m\u001b[0;34m.\u001b[0m\u001b[0msort_values\u001b[0m\u001b[0;34m(\u001b[0m\u001b[0;36m0\u001b[0m\u001b[0;34m,\u001b[0m \u001b[0mascending\u001b[0m\u001b[0;34m=\u001b[0m\u001b[0;32mFalse\u001b[0m\u001b[0;34m)\u001b[0m\u001b[0;34m[\u001b[0m\u001b[0;36m0\u001b[0m\u001b[0;34m:\u001b[0m\u001b[0;36m100\u001b[0m\u001b[0;34m]\u001b[0m\u001b[0;34m.\u001b[0m\u001b[0mindex\u001b[0m\u001b[0;34m\u001b[0m\u001b[0;34m\u001b[0m\u001b[0m\n",
      "\u001b[0;31mNameError\u001b[0m: name 'Counter' is not defined"
     ]
    }
   ],
   "source": [
    "positive_words = pd.DataFrame([dict(Counter(' '.join(df_pos['text'].values.tolist()).split(' ')))]).T.sort_values(0, ascending=False)[0:100].index\n",
    "\n",
    "negative_words = pd.DataFrame([dict(Counter(' '.join(df_neg['text'].values.tolist()).split(' ')))]).T.sort_values(0, ascending=False)[0:100].index"
   ]
  },
  {
   "cell_type": "code",
   "execution_count": 4,
   "id": "35f92856",
   "metadata": {},
   "outputs": [
    {
     "data": {
      "text/plain": [
       "21059174.456100002"
      ]
     },
     "execution_count": 4,
     "metadata": {},
     "output_type": "execute_result"
    }
   ],
   "source": [
    "48155*(20 - 0.98606)*23"
   ]
  },
  {
   "cell_type": "code",
   "execution_count": 5,
   "id": "42746ee5",
   "metadata": {},
   "outputs": [
    {
     "data": {
      "text/plain": [
       "104347.82608695653"
      ]
     },
     "execution_count": 5,
     "metadata": {},
     "output_type": "execute_result"
    }
   ],
   "source": [
    "20*10000*12/23"
   ]
  },
  {
   "cell_type": "code",
   "execution_count": null,
   "id": "023a9999",
   "metadata": {},
   "outputs": [],
   "source": []
  },
  {
   "cell_type": "code",
   "execution_count": 1,
   "id": "92e29ca5",
   "metadata": {},
   "outputs": [
    {
     "data": {
      "text/plain": [
       "4"
      ]
     },
     "execution_count": 1,
     "metadata": {},
     "output_type": "execute_result"
    }
   ],
   "source": [
    "3+1 "
   ]
  },
  {
   "cell_type": "code",
   "execution_count": null,
   "id": "a056a841",
   "metadata": {},
   "outputs": [],
   "source": []
  },
  {
   "cell_type": "code",
   "execution_count": null,
   "id": "f6b0b738",
   "metadata": {},
   "outputs": [],
   "source": []
  },
  {
   "cell_type": "code",
   "execution_count": null,
   "id": "fa7636de",
   "metadata": {},
   "outputs": [],
   "source": []
  },
  {
   "cell_type": "code",
   "execution_count": null,
   "id": "323bcb47",
   "metadata": {},
   "outputs": [],
   "source": []
  },
  {
   "cell_type": "code",
   "execution_count": null,
   "id": "896e9798",
   "metadata": {},
   "outputs": [],
   "source": []
  },
  {
   "cell_type": "code",
   "execution_count": null,
   "id": "df463e1a",
   "metadata": {},
   "outputs": [],
   "source": []
  }
 ],
 "metadata": {
  "kernelspec": {
   "display_name": "Python 3 (ipykernel)",
   "language": "python",
   "name": "python3"
  },
  "language_info": {
   "codemirror_mode": {
    "name": "ipython",
    "version": 3
   },
   "file_extension": ".py",
   "mimetype": "text/x-python",
   "name": "python",
   "nbconvert_exporter": "python",
   "pygments_lexer": "ipython3",
   "version": "3.9.7"
  }
 },
 "nbformat": 4,
 "nbformat_minor": 5
}
